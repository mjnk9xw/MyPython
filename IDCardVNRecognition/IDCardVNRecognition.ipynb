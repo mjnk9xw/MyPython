{
  "nbformat": 4,
  "nbformat_minor": 0,
  "metadata": {
    "colab": {
      "name": "IDCardVNRecognition.ipynb",
      "provenance": [],
      "collapsed_sections": [],
      "toc_visible": true
    },
    "kernelspec": {
      "name": "python3",
      "display_name": "Python 3"
    },
    "accelerator": "GPU"
  },
  "cells": [
    {
      "cell_type": "code",
      "metadata": {
        "id": "TsjnH72KtlR9",
        "colab_type": "code",
        "colab": {
          "base_uri": "https://localhost:8080/",
          "height": 102
        },
        "outputId": "f99412ea-5cae-4368-a117-c77fd0c503a2"
      },
      "source": [
        "!apt install net-tools"
      ],
      "execution_count": 31,
      "outputs": [
        {
          "output_type": "stream",
          "text": [
            "Reading package lists... Done\n",
            "Building dependency tree       \n",
            "Reading state information... Done\n",
            "net-tools is already the newest version (1.60+git20161116.90da8a0-1ubuntu1).\n",
            "0 upgraded, 0 newly installed, 0 to remove and 41 not upgraded.\n"
          ],
          "name": "stdout"
        }
      ]
    },
    {
      "cell_type": "code",
      "metadata": {
        "id": "9jTJJhs9wfb-",
        "colab_type": "code",
        "colab": {
          "base_uri": "https://localhost:8080/",
          "height": 289
        },
        "outputId": "d0f355fc-8f6a-4e7a-da08-6b0e966fc8ea"
      },
      "source": [
        "!ifconfig"
      ],
      "execution_count": 32,
      "outputs": [
        {
          "output_type": "stream",
          "text": [
            "eth0: flags=4163<UP,BROADCAST,RUNNING,MULTICAST>  mtu 1500\n",
            "        inet 172.28.0.2  netmask 255.255.0.0  broadcast 172.28.255.255\n",
            "        ether 02:42:ac:1c:00:02  txqueuelen 0  (Ethernet)\n",
            "        RX packets 99381  bytes 1447543760 (1.4 GB)\n",
            "        RX errors 0  dropped 0  overruns 0  frame 0\n",
            "        TX packets 74983  bytes 17607328 (17.6 MB)\n",
            "        TX errors 0  dropped 0 overruns 0  carrier 0  collisions 0\n",
            "\n",
            "lo: flags=73<UP,LOOPBACK,RUNNING>  mtu 65536\n",
            "        inet 127.0.0.1  netmask 255.0.0.0\n",
            "        loop  txqueuelen 1000  (Local Loopback)\n",
            "        RX packets 10263  bytes 108190031 (108.1 MB)\n",
            "        RX errors 0  dropped 0  overruns 0  frame 0\n",
            "        TX packets 10263  bytes 108190031 (108.1 MB)\n",
            "        TX errors 0  dropped 0 overruns 0  carrier 0  collisions 0\n",
            "\n"
          ],
          "name": "stdout"
        }
      ]
    },
    {
      "cell_type": "code",
      "metadata": {
        "id": "nKEdfCl8wtsY",
        "colab_type": "code",
        "colab": {
          "base_uri": "https://localhost:8080/",
          "height": 119
        },
        "outputId": "e67fef5e-a3ca-4d1e-fa3e-83fa849a91bc"
      },
      "source": [
        "!pip install torch==1.6.0+cu101 torchvision==0.7.0+cu101 -f https://download.pytorch.org/whl/torch_stable.html"
      ],
      "execution_count": 33,
      "outputs": [
        {
          "output_type": "stream",
          "text": [
            "Looking in links: https://download.pytorch.org/whl/torch_stable.html\n",
            "Requirement already satisfied: torch==1.6.0+cu101 in /usr/local/lib/python3.6/dist-packages (1.6.0+cu101)\n",
            "Requirement already satisfied: torchvision==0.7.0+cu101 in /usr/local/lib/python3.6/dist-packages (0.7.0+cu101)\n",
            "Requirement already satisfied: numpy in /usr/local/lib/python3.6/dist-packages (from torch==1.6.0+cu101) (1.18.5)\n",
            "Requirement already satisfied: future in /usr/local/lib/python3.6/dist-packages (from torch==1.6.0+cu101) (0.18.2)\n",
            "Requirement already satisfied: pillow>=4.1.1 in /usr/local/lib/python3.6/dist-packages (from torchvision==0.7.0+cu101) (7.2.0)\n"
          ],
          "name": "stdout"
        }
      ]
    },
    {
      "cell_type": "code",
      "metadata": {
        "id": "OpWbmV75xKfs",
        "colab_type": "code",
        "colab": {
          "base_uri": "https://localhost:8080/",
          "height": 357
        },
        "outputId": "f7bb1902-f980-4d7f-aae6-01ba26c23f3c"
      },
      "source": [
        "!nvidia-smi"
      ],
      "execution_count": 34,
      "outputs": [
        {
          "output_type": "stream",
          "text": [
            "Tue Sep 22 10:09:40 2020       \n",
            "+-----------------------------------------------------------------------------+\n",
            "| NVIDIA-SMI 450.66       Driver Version: 418.67       CUDA Version: 10.1     |\n",
            "|-------------------------------+----------------------+----------------------+\n",
            "| GPU  Name        Persistence-M| Bus-Id        Disp.A | Volatile Uncorr. ECC |\n",
            "| Fan  Temp  Perf  Pwr:Usage/Cap|         Memory-Usage | GPU-Util  Compute M. |\n",
            "|                               |                      |               MIG M. |\n",
            "|===============================+======================+======================|\n",
            "|   0  Tesla K80           Off  | 00000000:00:04.0 Off |                    0 |\n",
            "| N/A   36C    P8    26W / 149W |      0MiB / 11441MiB |      0%      Default |\n",
            "|                               |                      |                 ERR! |\n",
            "+-------------------------------+----------------------+----------------------+\n",
            "                                                                               \n",
            "+-----------------------------------------------------------------------------+\n",
            "| Processes:                                                                  |\n",
            "|  GPU   GI   CI        PID   Type   Process name                  GPU Memory |\n",
            "|        ID   ID                                                   Usage      |\n",
            "|=============================================================================|\n",
            "|  No running processes found                                                 |\n",
            "+-----------------------------------------------------------------------------+\n"
          ],
          "name": "stdout"
        }
      ]
    },
    {
      "cell_type": "code",
      "metadata": {
        "id": "uUKCiKhTybdk",
        "colab_type": "code",
        "colab": {
          "base_uri": "https://localhost:8080/",
          "height": 85
        },
        "outputId": "ea8dc2c3-3bed-4785-9145-5959070d7689"
      },
      "source": [
        "!nvcc --version"
      ],
      "execution_count": 35,
      "outputs": [
        {
          "output_type": "stream",
          "text": [
            "nvcc: NVIDIA (R) Cuda compiler driver\n",
            "Copyright (c) 2005-2019 NVIDIA Corporation\n",
            "Built on Sun_Jul_28_19:07:16_PDT_2019\n",
            "Cuda compilation tools, release 10.1, V10.1.243\n"
          ],
          "name": "stdout"
        }
      ]
    },
    {
      "cell_type": "code",
      "metadata": {
        "id": "LA8VfieZ0skD",
        "colab_type": "code",
        "colab": {
          "base_uri": "https://localhost:8080/",
          "height": 80
        },
        "outputId": "1e499522-8c1c-4e59-cea3-1cb8a5e89ef0"
      },
      "source": [
        "!git clone https://github.com/mjnk9xw/IDCardVNRecognition.git"
      ],
      "execution_count": null,
      "outputs": [
        {
          "output_type": "stream",
          "text": [
            "Cloning into 'IDCardVNRecognition'...\n",
            "remote: Enumerating objects: 714, done.\u001b[K\n"
          ],
          "name": "stdout"
        }
      ]
    },
    {
      "cell_type": "code",
      "metadata": {
        "id": "IM6O2PWg47ck",
        "colab_type": "code",
        "colab": {}
      },
      "source": [
        "%cd IDCardVNRecognition\n",
        "%ls"
      ],
      "execution_count": null,
      "outputs": []
    },
    {
      "cell_type": "code",
      "metadata": {
        "id": "Nzo1qX9K1DIu",
        "colab_type": "code",
        "colab": {}
      },
      "source": [
        "!pip install -r requirements.txt"
      ],
      "execution_count": null,
      "outputs": []
    },
    {
      "cell_type": "code",
      "metadata": {
        "id": "pVckdxLq15Ut",
        "colab_type": "code",
        "colab": {}
      },
      "source": [
        "!apt install curl\n"
      ],
      "execution_count": null,
      "outputs": []
    },
    {
      "cell_type": "code",
      "metadata": {
        "id": "nO51vl0z2NPc",
        "colab_type": "code",
        "colab": {}
      },
      "source": [
        "!echo \"deb [arch=amd64] http://storage.googleapis.com/tensorflow-serving-apt stable tensorflow-model-server tensorflow-model-server-universal\" | sudo tee /etc/apt/sources.list.d/tensorflow-serving.list && curl https://storage.googleapis.com/tensorflow-serving-apt/tensorflow-serving.release.pub.gpg | sudo apt-key add -"
      ],
      "execution_count": null,
      "outputs": []
    },
    {
      "cell_type": "code",
      "metadata": {
        "id": "LovlK4SV2bHZ",
        "colab_type": "code",
        "colab": {}
      },
      "source": [
        "!apt update\n",
        "!apt install tensorflow-model-server"
      ],
      "execution_count": null,
      "outputs": []
    },
    {
      "cell_type": "code",
      "metadata": {
        "id": "Qlhb14-W2sAm",
        "colab_type": "code",
        "colab": {}
      },
      "source": [
        "!nohup tensorflow_model_server --port=8500 --rest_api_port=8501 --model_config_file=models/serving.config &"
      ],
      "execution_count": null,
      "outputs": []
    },
    {
      "cell_type": "code",
      "metadata": {
        "id": "5Dt-t4mPNaBC",
        "colab_type": "code",
        "colab": {}
      },
      "source": [
        "import base64\n",
        "\n",
        "with open(\"/content/IDCardVNRecognition/app/static/images/2.jpg\", \"rb\") as image_file:\n",
        "    encoded_string = base64.b64encode(image_file.read())\n",
        "    print(encoded_string)"
      ],
      "execution_count": null,
      "outputs": []
    },
    {
      "cell_type": "code",
      "metadata": {
        "id": "bnL_2N1457QV",
        "colab_type": "code",
        "colab": {
          "base_uri": "https://localhost:8080/",
          "height": 581
        },
        "outputId": "3f758d7a-4b3f-49fc-9756-c454f9564d0a"
      },
      "source": [
        "! pip install --quiet vietocr==0.1.9\n",
        "# !chmod +x ./run.py\n",
        "# !nohup python run.py &\n",
        "!python run.py\n",
        "# !nohup python -u ./run.py  > output.log &"
      ],
      "execution_count": 29,
      "outputs": [
        {
          "output_type": "stream",
          "text": [
            "2020-09-22 09:46:13.959712: I tensorflow/stream_executor/platform/default/dso_loader.cc:48] Successfully opened dynamic library libcudart.so.10.1\n",
            "File exists: /root/.cache/gdown/https-COLON--SLASH--SLASH-drive.google.com-SLASH-uc-QUESTION-export-EQUAL-download&id-EQUAL-1-olev206xLgXYf7rnwHrcZLxxLg5rs0p\n",
            "File exists: /root/.cache/gdown/https-COLON--SLASH--SLASH-drive.google.com-SLASH-uc-QUESTION-export-EQUAL-download&id-EQUAL-1-olev206xLgXYf7rnwHrcZLxxLg5rs0p\n",
            "File exists: /root/.cache/gdown/https-COLON--SLASH--SLASH-drive.google.com-SLASH-uc-QUESTION-id-EQUAL-13327Y1tz1ohsm5YZMyXVMPIOjoOA0OaA\n",
            "File exists: /root/.cache/gdown/https-COLON--SLASH--SLASH-drive.google.com-SLASH-uc-QUESTION-export-EQUAL-download&id-EQUAL-1-olev206xLgXYf7rnwHrcZLxxLg5rs0p\n",
            "===========================================\n",
            "/content/IDCardVNRecognition/cropper/cropper.py:105: FutureWarning: Using a non-tuple sequence for multidimensional indexing is deprecated; use `arr[tuple(seq)]` instead of `arr[seq]`. In the future this will be interpreted as an array index, `arr[np.array(seq)]`, which will result either in an error or a different result.\n",
            "  id_card_box = self.best_bboxes[idx]\n",
            "quoc huy idcard =  [169.64007187 116.6366294  304.22754097 251.73206294   0.99988234\n",
            "   4.        ]\n",
            "call id\n",
            "total_time:1.9993226528167725\n",
            "id: 145064321\n",
            "name: NGUYỄN BĂO NGỌC\n",
            "date_of_birth: 07/09-1983\n",
            "que_quan_0: Bình Minh\n",
            "que_quan_1: Khoái Châu, Hưng Xê\n",
            "noi_thuong_tru_0: Bình Minh\n",
            "noi_thuong_tru_1: Khoái Châu, Hưmg Yên\n",
            "filename: 2.jpg\n",
            "===========================================\n",
            "done cropper => image begin\n",
            "call id\n",
            "total_time:1.94295072555542\n",
            "id: 013620532\n",
            "name: NGUYỄN ĐỨCHẬU\n",
            "date_of_birth: 18/09/1998\n",
            "que_quan_0: MatLâm, Đông Anh, Hà Nội\n",
            "que_quan_1: Mai Hiên\n",
            "noi_thuong_tru_0: Mai Lâm, Đồng Anh, Hà Nội\n",
            "noi_thuong_tru_1: \n",
            "filename: hau5.jpg\n"
          ],
          "name": "stdout"
        }
      ]
    },
    {
      "cell_type": "code",
      "metadata": {
        "id": "49aFo-9z629R",
        "colab_type": "code",
        "colab": {
          "base_uri": "https://localhost:8080/",
          "height": 462
        },
        "outputId": "ef5a5ac7-5744-4f33-bf9f-35b0b3becf71"
      },
      "source": [
        "!apt install net-tools\n",
        "!netstat -tlnp\n",
        "!ps ax | grep run.py\n",
        "!ps ax | grep tensorflow_model_server"
      ],
      "execution_count": 14,
      "outputs": [
        {
          "output_type": "stream",
          "text": [
            "Reading package lists... Done\n",
            "Building dependency tree       \n",
            "Reading state information... Done\n",
            "net-tools is already the newest version (1.60+git20161116.90da8a0-1ubuntu1).\n",
            "0 upgraded, 0 newly installed, 0 to remove and 41 not upgraded.\n",
            "Active Internet connections (only servers)\n",
            "Proto Recv-Q Send-Q Local Address           Foreign Address         State       PID/Program name    \n",
            "tcp        0      0 127.0.0.11:43391        0.0.0.0:*               LISTEN      -                   \n",
            "tcp        0      0 127.0.0.1:43617         0.0.0.0:*               LISTEN      1980/python3        \n",
            "tcp        0      0 127.0.0.1:59591         0.0.0.0:*               LISTEN      1980/python3        \n",
            "tcp        0      0 172.28.0.2:9000         0.0.0.0:*               LISTEN      24/python2          \n",
            "tcp        0      0 127.0.0.1:55595         0.0.0.0:*               LISTEN      1980/python3        \n",
            "tcp        0      0 127.0.0.1:59697         0.0.0.0:*               LISTEN      1980/python3        \n",
            "tcp        0      0 0.0.0.0:8500            0.0.0.0:*               LISTEN      2938/tensorflow_mod \n",
            "tcp        0      0 0.0.0.0:8500            0.0.0.0:*               LISTEN      1427/tensorflow_mod \n",
            "tcp        0      0 0.0.0.0:8501            0.0.0.0:*               LISTEN      1427/tensorflow_mod \n",
            "tcp        0      0 127.0.0.1:34167         0.0.0.0:*               LISTEN      1980/python3        \n",
            "tcp        0      0 127.0.0.1:48567         0.0.0.0:*               LISTEN      1980/python3        \n",
            "tcp6       0      0 :::8080                 :::*                    LISTEN      8/node              \n",
            "   3011 ?        S      0:00 /bin/bash -c ps ax | grep run.py\n",
            "   3013 ?        S      0:00 grep run.py\n",
            "   1427 ?        Sl     0:09 tensorflow_model_server --port=8500 --rest_api_port=8501 --model_config_file=models/serving.config\n",
            "   2938 ?        Sl     0:04 tensorflow_model_server --port=8500 --rest_api_port=8501 --model_config_file=models/serving.config\n",
            "   3014 ?        S      0:00 /bin/bash -c ps ax | grep tensorflow_model_server\n",
            "   3016 ?        S      0:00 grep tensorflow_model_server\n"
          ],
          "name": "stdout"
        }
      ]
    }
  ]
}